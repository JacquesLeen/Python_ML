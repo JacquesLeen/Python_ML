{
 "cells": [
  {
   "cell_type": "markdown",
   "metadata": {},
   "source": [
    "# Data Science With Python"
   ]
  },
  {
   "cell_type": "markdown",
   "metadata": {},
   "source": [
    "Test funzione %timeit: Misura quanto tempo serve per eseguire un task"
   ]
  },
  {
   "cell_type": "code",
   "execution_count": 1,
   "metadata": {},
   "outputs": [
    {
     "name": "stdout",
     "output_type": "stream",
     "text": [
      "48.1 µs ± 2.2 µs per loop (mean ± std. dev. of 7 runs, 10000 loops each)\n"
     ]
    }
   ],
   "source": [
    "%timeit L=[n for n in range(1000)]"
   ]
  },
  {
   "cell_type": "markdown",
   "metadata": {},
   "source": [
    "%%timeit consente di mettere chunks di codice per la misura del tempo impiegato"
   ]
  },
  {
   "cell_type": "code",
   "execution_count": 2,
   "metadata": {},
   "outputs": [
    {
     "name": "stdout",
     "output_type": "stream",
     "text": [
      "100 µs ± 3.25 µs per loop (mean ± std. dev. of 7 runs, 10000 loops each)\n"
     ]
    }
   ],
   "source": [
    "%%timeit\n",
    "L=[]\n",
    "for n in range(1000):\n",
    "    L.append(n)"
   ]
  },
  {
   "cell_type": "markdown",
   "metadata": {},
   "source": [
    "per sorting e operazioni simili conviene usare %time. Perché se no fa più test ma una lista già ordinata occupa poco tempo"
   ]
  },
  {
   "cell_type": "code",
   "execution_count": 3,
   "metadata": {},
   "outputs": [
    {
     "name": "stdout",
     "output_type": "stream",
     "text": [
      "CPU times: user 1.67 ms, sys: 81 µs, total: 1.76 ms\n",
      "Wall time: 1.99 ms\n"
     ]
    }
   ],
   "source": [
    "import random\n",
    "L=[random.random() for i in range (10000)]\n",
    "%time L.sort()"
   ]
  },
  {
   "cell_type": "markdown",
   "metadata": {},
   "source": [
    "## Capitolo 2 - Numpy"
   ]
  },
  {
   "cell_type": "markdown",
   "metadata": {},
   "source": [
    "comando chiave per importare numpy"
   ]
  },
  {
   "cell_type": "code",
   "execution_count": 1,
   "metadata": {},
   "outputs": [],
   "source": [
    "import numpy as np"
   ]
  },
  {
   "cell_type": "markdown",
   "metadata": {},
   "source": [
    "diversi modi per creare arrays di numpy (caratterizzati da avere elementi tutti dello stesso tipo)"
   ]
  },
  {
   "cell_type": "code",
   "execution_count": 17,
   "metadata": {},
   "outputs": [
    {
     "name": "stdout",
     "output_type": "stream",
     "text": [
      "[0 2 4 6]\n",
      "[0. 0. 0. 0. 0.]\n",
      "[1. 1. 1. 1. 1.]\n",
      "[ 2.71961658  1.22512611  1.48343917 -0.48200563 -1.09597655  3.0827877\n",
      " -0.35856237  0.41877052 -2.31711514  4.26784207 -3.25040546 -0.36413928\n",
      " -0.96377617 -0.98075189  0.77127863  3.04697099 -1.42328894 -0.27581734\n",
      " -1.05928896 -2.8113625  -3.00446092 -4.96672969  2.91612972 -1.70270507\n",
      " -0.41766618]\n",
      "[[0.36926754 0.76390281 0.3100574 ]\n",
      " [0.80744772 0.10696832 0.33585697]\n",
      " [0.70854018 0.85775763 0.59228522]]\n",
      "[-1.72723371e-077 -1.72723371e-077  5.43472210e-323  0.00000000e+000\n",
      "  0.00000000e+000  1.04082753e-047  4.51520796e-090  1.14349538e-071\n",
      "  2.36721335e+179  2.93003235e-057]\n"
     ]
    }
   ],
   "source": [
    "# da lista\n",
    "L=[0,2,4,6]\n",
    "L_arr = np.array(L)\n",
    "print(L_arr)\n",
    "\n",
    "# array di zeri\n",
    "A_zero = np.zeros(5)\n",
    "print(A_zero)\n",
    "\n",
    "# array di 1\n",
    "A_one = np.ones(5)\n",
    "print(A_one)\n",
    "\n",
    "#array random gauss\n",
    "A_random = np.random.normal(0,2, 25)\n",
    "print(A_random)\n",
    "\n",
    "#array multidimensionale\n",
    "A_matrix = np.random.random((3,3))\n",
    "print(A_matrix)\n",
    "\n",
    "#array VUOTO\n",
    "A_empty = np.empty(10)\n",
    "print(A_empty)\n",
    "\n",
    "del(A_empty, A_matrix, A_random, A_one, A_zero)"
   ]
  },
  {
   "cell_type": "markdown",
   "metadata": {},
   "source": [
    "### 1- Manipolazione di Array"
   ]
  },
  {
   "cell_type": "code",
   "execution_count": 8,
   "metadata": {},
   "outputs": [
    {
     "name": "stdout",
     "output_type": "stream",
     "text": [
      "x3.ndim: 3 \n",
      "x3.nshape: (3, 4, 5) \n",
      "x3.size: 60\n"
     ]
    }
   ],
   "source": [
    "#creo array con numeri casuali\n",
    "\n",
    "np.random.seed(0) #seme per la generazione di numeri casuali\n",
    "x1 = np.random.randint(10, size= 6)\n",
    "x2 = np.random.randint(10, size = (3,4))\n",
    "x3 = np.random.randint(10, size= (3,4,5))\n",
    "\n",
    "#accesso a dim, shape e size\n",
    "print(\"x3.ndim:\", x3.ndim, \"\\n\"\n",
    "     \"x3.nshape:\", x3.shape, \"\\n\"\n",
    "     \"x3.size:\", x3.size)"
   ]
  },
  {
   "cell_type": "markdown",
   "metadata": {},
   "source": [
    "#### Indexing\n",
    "\n",
    "l'accesso a elementi di un array è dato nominando l'indice contando a partire da 0. Per array multimensdionali è da tenere presente l'ordinamento [row, column]"
   ]
  },
  {
   "cell_type": "code",
   "execution_count": 14,
   "metadata": {},
   "outputs": [
    {
     "name": "stdout",
     "output_type": "stream",
     "text": [
      "il 5o elemento dell'array x1: 7\n",
      "controllo: [5 0 3 3 7 9]\n",
      "terza colonna prima riga di x2: 2\n",
      "controllo:\n",
      " [[3 5 2 4]\n",
      " [7 6 8 8]\n",
      " [1 6 7 7]]\n"
     ]
    }
   ],
   "source": [
    "print(\"il 5o elemento dell'array x1:\",x1[4])\n",
    "print(\"controllo:\",x1)\n",
    "print(\"terza colonna prima riga di x2:\", x2[0,2])\n",
    "print(\"controllo:\\n\", x2)"
   ]
  },
  {
   "cell_type": "markdown",
   "metadata": {},
   "source": [
    "#### Accessing and Slicing\n",
    "\n",
    "L'accesso a elementi di un array (anche multipli) si ha tramite le parentesi quadre. n_array[start:stop:step] è la sintassi per individuarli"
   ]
  },
  {
   "cell_type": "code",
   "execution_count": 21,
   "metadata": {},
   "outputs": [
    {
     "name": "stdout",
     "output_type": "stream",
     "text": [
      "I primi 5 elementi [0 1 2 3 4]\n",
      "Gli elementi dopo il 5o [5 6 7 8 9]\n",
      "Gli elementi con indice pari (inizio a contare da 0)\n",
      " [0 2 4 6 8]\n",
      "Gli elementi con indice dispari \n",
      " [1 3 5 7 9]\n"
     ]
    }
   ],
   "source": [
    "#esempi di accesso e slicing\n",
    "\n",
    "x = np.arange(10)\n",
    "\n",
    "print(\"I primi 5 elementi\", x[0:5])\n",
    "print(\"Gli elementi dopo il 5o\", x[5:])\n",
    "print(\"Gli elementi con indice pari (inizio a contare da 0)\\n\", x[::2])\n",
    "print(\"Gli elementi con indice dispari \\n\", x[1::2])"
   ]
  },
  {
   "cell_type": "markdown",
   "metadata": {},
   "source": [
    "Per aray multidimensionali la sintassi è [ start_d1: end_d1: step_d1 , ... start_dn: end_dn: step_dn ]"
   ]
  },
  {
   "cell_type": "code",
   "execution_count": 24,
   "metadata": {},
   "outputs": [
    {
     "name": "stdout",
     "output_type": "stream",
     "text": [
      "stampa la matrice x2 eliminando ultima riga e ultima colonna:\n",
      " [[3 5 2]\n",
      " [7 6 8]]\n"
     ]
    }
   ],
   "source": [
    "#esempio\n",
    "\n",
    "print(\"stampa la matrice x2 eliminando ultima riga e ultima colonna:\\n\",x2[:2,:3])"
   ]
  },
  {
   "cell_type": "markdown",
   "metadata": {},
   "source": [
    "attenzione, lo slicing punta all'oggetto individuale non a copie che vengono create. Cosa significa? Significa che se modifico l'oggetto ottenuto dallo slicing allora vado a modificare anche l'originale"
   ]
  },
  {
   "cell_type": "code",
   "execution_count": 26,
   "metadata": {},
   "outputs": [
    {
     "name": "stdout",
     "output_type": "stream",
     "text": [
      "slicing della matrice x2:\n",
      " [[3 5 2]\n",
      " [7 6 8]]\n",
      "x2_sub dopo la modifica di un suo elemento:\n",
      " [[ 3  5  2]\n",
      " [ 7 34  8]]\n",
      "x2 dopo la modifica di un elemento di x2_sub:\n",
      " [[ 3  5  2  4]\n",
      " [ 7 34  8  8]\n",
      " [ 1  6  7  7]]\n"
     ]
    }
   ],
   "source": [
    "#esempio\n",
    "\n",
    "x2_sub = x2[:2,:3]\n",
    "print(\"slicing della matrice x2:\\n\", x2_sub)\n",
    "\n",
    "x2_sub[1,1] = 34\n",
    "\n",
    "print(\"x2_sub dopo la modifica di un suo elemento:\\n\",x2_sub)\n",
    "\n",
    "print(\"x2 dopo la modifica di un elemento di x2_sub:\\n\",x2)\n",
    "\n",
    "print('La modifica su x2_sub interessa chiaramente x2_sub, ma anche x2 stesso'oggetto stesso quanto anche )"
   ]
  },
  {
   "cell_type": "markdown",
   "metadata": {},
   "source": [
    "Per creare copie posso usare un metodo apposito. copy()"
   ]
  },
  {
   "cell_type": "code",
   "execution_count": 27,
   "metadata": {},
   "outputs": [
    {
     "name": "stdout",
     "output_type": "stream",
     "text": [
      "x2_sub dopo la modifica di un suo elemento:\n",
      " [[ 3  5  2]\n",
      " [ 7 23  8]]\n",
      "x2 dopo la modifica di un elemento di x2_sub_copy:\n",
      " [[ 3  5  2  4]\n",
      " [ 7 34  8  8]\n",
      " [ 1  6  7  7]]\n"
     ]
    }
   ],
   "source": [
    "x2_sub_copy = x2[:2,:3].copy()\n",
    "\n",
    "x2_sub_copy[1,1] = 23\n",
    "\n",
    "print(\"x2_sub dopo la modifica di un suo elemento:\\n\",x2_sub_copy)\n",
    "\n",
    "print(\"x2 dopo la modifica di un elemento di x2_sub_copy:\\n\",x2)"
   ]
  },
  {
   "cell_type": "markdown",
   "metadata": {},
   "source": [
    "#### Concatenate e splitting\n",
    "Gli array possono essere combinati tra loro o divisi in array più piccoli con i metodi concatenate e split.\n"
   ]
  },
  {
   "cell_type": "code",
   "execution_count": 34,
   "metadata": {},
   "outputs": [
    {
     "name": "stdout",
     "output_type": "stream",
     "text": [
      "[0.39486929 0.61880856 0.47486752 0.47013219 0.71607453 0.287991\n",
      " 0.38346223 0.74916984 0.87845219 0.10286336] \n",
      " [0.09237389 0.35404666 0.55181626 0.03362509 0.96896177 0.32099724\n",
      " 0.22126269 0.1412639  0.09725993 0.98404224] \n",
      " [0.39486929 0.61880856 0.47486752 0.47013219 0.71607453 0.287991\n",
      " 0.38346223 0.74916984 0.87845219 0.10286336 0.09237389 0.35404666\n",
      " 0.55181626 0.03362509 0.96896177 0.32099724 0.22126269 0.1412639\n",
      " 0.09725993 0.98404224] \n",
      "\n"
     ]
    }
   ],
   "source": [
    "#esempio concatenate\n",
    "\n",
    "x1= np.random.random(10)\n",
    "x2= np.random.random(10)\n",
    "x3= np.concatenate([x1,x2])\n",
    "\n",
    "print(x1, \"\\n\", x2, \"\\n\", x3, '\\n')"
   ]
  },
  {
   "cell_type": "code",
   "execution_count": 39,
   "metadata": {},
   "outputs": [
    {
     "name": "stdout",
     "output_type": "stream",
     "text": [
      "[1 2 3] \n",
      " [5 6] \n",
      " [7 8 9 0]\n"
     ]
    }
   ],
   "source": [
    "#esempio split ->devo passare gli indici degli elementi da splittare\n",
    "\n",
    "x = np.array([1,2,3,5,6,7,8,9,0])\n",
    "x1, x2, x3 = np.split(x, [3,5])\n",
    "print(x1,'\\n', x2, '\\n',x3)"
   ]
  },
  {
   "cell_type": "markdown",
   "metadata": {},
   "source": [
    "### 2-Calcoli con Array\n",
    "\n",
    "Il fatto che python sia un linguaggio interpretato basato su C lo rende molot poco efficiente nel compiere determinate operazioni come ad esempio i cicli"
   ]
  },
  {
   "cell_type": "code",
   "execution_count": 48,
   "metadata": {},
   "outputs": [],
   "source": [
    "def compute_rec(values):\n",
    "    output = np.empty(len(values))\n",
    "    for i in range (len(values)):\n",
    "        output[i]= 1./values[i]\n",
    "    return output"
   ]
  },
  {
   "cell_type": "code",
   "execution_count": 44,
   "metadata": {},
   "outputs": [
    {
     "name": "stdout",
     "output_type": "stream",
     "text": [
      "vettore iniziale: [ 3  3  2  6  9  5  1 12  3  6]\n",
      "7.53 µs ± 71.6 ns per loop (mean ± std. dev. of 7 runs, 100000 loops each)\n",
      "inversi: [0.05263158 0.07692308 0.25       0.1        0.09090909 0.07142857\n",
      " 0.125      0.125      0.5        0.07692308]\n"
     ]
    }
   ],
   "source": [
    "values = np.random.randint(1,20,10)\n",
    "print('vettore iniziale:',values)\n",
    "\n",
    "%timeit output = compute_rec(values)\n",
    "print('inversi:', output)\n"
   ]
  },
  {
   "cell_type": "code",
   "execution_count": 49,
   "metadata": {},
   "outputs": [
    {
     "name": "stdout",
     "output_type": "stream",
     "text": [
      "3.1 s ± 175 ms per loop (mean ± std. dev. of 7 runs, 1 loop each)\n"
     ]
    }
   ],
   "source": [
    "#se però ci metto un vettore grande\n",
    "big_arr = np.random.randint(1,100, size=1000000)\n",
    "%timeit compute_rec(big_arr)"
   ]
  },
  {
   "cell_type": "markdown",
   "metadata": {},
   "source": [
    "cosa succede invece se non creo una funzione apposta per il calcolo dei reciproci ma divido subito tutto il vettore?"
   ]
  },
  {
   "cell_type": "code",
   "execution_count": 50,
   "metadata": {},
   "outputs": [
    {
     "name": "stdout",
     "output_type": "stream",
     "text": [
      "4.29 ms ± 36.7 µs per loop (mean ± std. dev. of 7 runs, 100 loops each)\n"
     ]
    }
   ],
   "source": [
    "%timeit 1./big_arr"
   ]
  },
  {
   "cell_type": "markdown",
   "metadata": {},
   "source": [
    "Si tratta di usare quelle che sono note come funzioni universali di python che consentono di operare su un array riducendo il numero di cicli che devono essere messe in moto, riducendo i tempi (nel caso precedente di $10^3$ volte)"
   ]
  },
  {
   "cell_type": "markdown",
   "metadata": {},
   "source": [
    "#### Aritmetica"
   ]
  },
  {
   "cell_type": "code",
   "execution_count": 74,
   "metadata": {},
   "outputs": [
    {
     "name": "stdout",
     "output_type": "stream",
     "text": [
      "x = [28  1 60 72 20 53 43 31 30 38]\n",
      "x + 2 = [30  3 62 74 22 55 45 33 32 40]\n",
      "x * 2 = [ 56   2 120 144  40 106  86  62  60  76]\n",
      "x - 2 = [26 -1 58 70 18 51 41 29 28 36]\n",
      "x / 2 = [14.   0.5 30.  36.  10.  26.5 21.5 15.5 15.  19. ]\n",
      "x ** 2 = [ 784    1 3600 5184  400 2809 1849  961  900 1444]\n",
      "=======================Modulo====================\n",
      "x = [ 4  2 -5  2 -5 -6  5 -1 -2 -6]\n",
      "abs(x) = [4 2 5 2 5 6 5 1 2 6]\n",
      "=======================Trigonometria====================\n",
      "x = [0.52251623 0.01168336 0.34031151 0.67401109 0.09928465 0.86208679\n",
      " 0.21039659 0.84179947 0.99363431 0.81622302]\n",
      "sin(x) = [0.49906219 0.01168309 0.33378075 0.62412497 0.09912162 0.75920241\n",
      " 0.20884776 0.74584299 0.83801456 0.72856389]\n",
      "cos(x) = [0.86656617 0.99993175 0.94265073 0.78132453 0.99507533 0.65085459\n",
      " 0.97794817 0.66612178 0.54564786 0.68497786]\n",
      "=======================Exp e Log====================\n",
      "x = [ 1.  2.  3.  4.  5.  6.  7.  8.  9. 10.]\n",
      "exp(x) =  [2.71828183e+00 7.38905610e+00 2.00855369e+01 5.45981500e+01\n",
      " 1.48413159e+02 4.03428793e+02 1.09663316e+03 2.98095799e+03\n",
      " 8.10308393e+03 2.20264658e+04]\n",
      "2^x =  [   2.    4.    8.   16.   32.   64.  128.  256.  512. 1024.]\n",
      "ln(x)= [0.         0.69314718 1.09861229 1.38629436 1.60943791 1.79175947\n",
      " 1.94591015 2.07944154 2.19722458 2.30258509]\n",
      "log_10(x)= [0.         0.30103    0.47712125 0.60205999 0.69897    0.77815125\n",
      " 0.84509804 0.90308999 0.95424251 1.        ]\n"
     ]
    }
   ],
   "source": [
    "# esempi di operazioni aritmetiche con le ufunctions\n",
    "\n",
    "x = np.random.randint(1,100,10)\n",
    "print('x =',x)\n",
    "print('x + 2 =', x+2)\n",
    "print('x * 2 =', x*2)\n",
    "print('x - 2 =', x-2)\n",
    "print('x / 2 =', x/2)\n",
    "print('x ** 2 =', x**2)\n",
    "print('=======================Modulo====================')\n",
    "x = np.random.randint(-10, 10, 10)\n",
    "print('x =',x)\n",
    "print('abs(x) =',abs(x))\n",
    "print('=======================Trigonometria====================')\n",
    "x = np.random.random((10)) * np.random.randint(1,3)\n",
    "print('x =',x)\n",
    "print('sin(x) =',  np.sin(x))\n",
    "print('cos(x) =',  np.cos(x))\n",
    "#print('arccos(x) =',  np.arccos(x))\n",
    "print('=======================Exp e Log====================')\n",
    "x = np.linspace(1,10,10)\n",
    "print('x =',x)\n",
    "print('exp(x) = ', np.exp(x))\n",
    "print('2^x = ', np.exp2(x))\n",
    "print('ln(x)=', np.log(x))\n",
    "print('log_10(x)=', np.log10(x))"
   ]
  },
  {
   "cell_type": "markdown",
   "metadata": {},
   "source": [
    "È possibile in molti casi specificare l'output senza dover creare copie temporanee con np e le funzioni built in"
   ]
  },
  {
   "cell_type": "code",
   "execution_count": 78,
   "metadata": {},
   "outputs": [
    {
     "name": "stdout",
     "output_type": "stream",
     "text": [
      "[0. 2. 4. 6. 8.]\n"
     ]
    }
   ],
   "source": [
    "#esempi\n",
    "x = np.arange(5)\n",
    "y = np.empty(5)\n",
    "np.multiply(x, 2, out=y)\n",
    "print(y)"
   ]
  },
  {
   "cell_type": "markdown",
   "metadata": {},
   "source": [
    "#### Operazioni algebriche\n",
    "\n",
    "Python consente di operare con la libreria np algebricamente sui vettori in maniera più veloce rispetto a quanto non faccia con le liste."
   ]
  },
  {
   "cell_type": "code",
   "execution_count": 79,
   "metadata": {},
   "outputs": [
    {
     "name": "stdout",
     "output_type": "stream",
     "text": [
      "203 ms ± 9.07 ms per loop (mean ± std. dev. of 7 runs, 1 loop each)\n",
      "621 µs ± 13.3 µs per loop (mean ± std. dev. of 7 runs, 1000 loops each)\n"
     ]
    }
   ],
   "source": [
    "# esempio\n",
    "\n",
    "big_arr = np.random.random(1000000)\n",
    "%timeit sum(big_arr)\n",
    "%timeit np.sum(big_arr)"
   ]
  },
  {
   "cell_type": "markdown",
   "metadata": {},
   "source": [
    "Timeit mostra che ballano 3 odg tra il calcolo svolto con la funzione build in e quello fatto con il metodo apposito di np. Analogamente si opera con min e max"
   ]
  },
  {
   "cell_type": "code",
   "execution_count": 80,
   "metadata": {},
   "outputs": [
    {
     "name": "stdout",
     "output_type": "stream",
     "text": [
      "130 ms ± 610 µs per loop (mean ± std. dev. of 7 runs, 10 loops each)\n",
      "128 ms ± 2.88 ms per loop (mean ± std. dev. of 7 runs, 10 loops each)\n",
      "746 µs ± 184 µs per loop (mean ± std. dev. of 7 runs, 1000 loops each)\n",
      "689 µs ± 64.9 µs per loop (mean ± std. dev. of 7 runs, 1000 loops each)\n"
     ]
    }
   ],
   "source": [
    "%timeit min(big_arr)\n",
    "%timeit max(big_arr)\n",
    "\n",
    "%timeit np.min(big_arr)\n",
    "%timeit np.max(big_arr)"
   ]
  },
  {
   "cell_type": "markdown",
   "metadata": {},
   "source": [
    "### 3-Esempi di Manipolazione dati con np\n",
    "\n",
    "Abbiamo un file che riporta la statura dei presidenti degli stati uniti e vogliamo fare un po di statistica"
   ]
  },
  {
   "cell_type": "code",
   "execution_count": 81,
   "metadata": {},
   "outputs": [
    {
     "name": "stdout",
     "output_type": "stream",
     "text": [
      "order,name,height(cm)\r\n",
      "1,George Washington,189\r\n",
      "2,John Adams,170\r\n",
      "3,Thomas Jefferson,189\r\n"
     ]
    }
   ],
   "source": [
    "!head -4 data/president_heights.csv"
   ]
  },
  {
   "cell_type": "code",
   "execution_count": 101,
   "metadata": {},
   "outputs": [
    {
     "name": "stdout",
     "output_type": "stream",
     "text": [
      "Stats\n",
      "Media = 179.73809523809524\n",
      "Std_dev = 6.931843442745892\n",
      "Max = 193\n",
      "Min = 163\n",
      ".25 percentile = 174.25\n",
      "Mediana = 182.0\n"
     ]
    }
   ],
   "source": [
    "import pandas as pd\n",
    "\n",
    "df = pd.read_csv('data/president_heights.csv')\n",
    "\n",
    "height = np.array(df['height(cm)'])\n",
    "\n",
    "print('Stats')\n",
    "print('Media =', np.average(height))\n",
    "print('Std_dev =', np.std(height))\n",
    "print('Max =', np.max(height))\n",
    "print('Min =', np.min(height))\n",
    "print('.25 percentile =', np.percentile(height, 25))\n",
    "print('Mediana =', np.median(height))\n"
   ]
  },
  {
   "cell_type": "code",
   "execution_count": 105,
   "metadata": {},
   "outputs": [
    {
     "data": {
      "text/plain": [
       "Text(0.5, 0, 'Height(cm)')"
      ]
     },
     "execution_count": 105,
     "metadata": {},
     "output_type": "execute_result"
    },
    {
     "data": {
      "image/png": "[encoded data removed]",
      "text/plain": [
       "<Figure size 432x288 with 1 Axes>"
      ]
     },
     "metadata": {},
     "output_type": "display_data"
    }
   ],
   "source": [
    "import matplotlib.pyplot as plt\n",
    "import seaborn; seaborn.set()\n",
    "\n",
    "plt.hist(height)\n",
    "plt.title(\"Height distr. US President\")\n",
    "plt.ylabel('Number')\n",
    "plt.xlabel('Height(cm)')\n"
   ]
  },
  {
   "cell_type": "markdown",
   "metadata": {},
   "source": [
    "### 4-Broadcasting\n",
    "Il broadcasting è molto utile ad esempio quando si plottano funzioni in due dimensioni con un contour plot. La procedura consiste nel far avvenire i loop a livello C invece che nell'interprete di python e risulta in una computazione più flessibile e più veloce."
   ]
  },
  {
   "cell_type": "code",
   "execution_count": 110,
   "metadata": {},
   "outputs": [
    {
     "data": {
      "text/plain": [
       "<matplotlib.colorbar.Colorbar at 0x1a2166ce10>"
      ]
     },
     "execution_count": 110,
     "metadata": {},
     "output_type": "execute_result"
    },
    {
     "data": {
      "image/png": "[encoded data removed]",
      "text/plain": [
       "<Figure size 432x288 with 2 Axes>"
      ]
     },
     "metadata": {},
     "output_type": "display_data"
    }
   ],
   "source": [
    "#esempio\n",
    "\n",
    "x = np.linspace(0,100,1000)\n",
    "y = np.linspace(0,100,1000)[:, np.newaxis]\n",
    "\n",
    "def func(x,y):\n",
    "    return 4 + np.sin(x)**2 *(np.cos(y))**2\n",
    "\n",
    "plt.imshow(func(x,y), origin='lower', extent =[0,100,0,100], cmap='viridis')\n",
    "plt.colorbar()"
   ]
  },
  {
   "cell_type": "markdown",
   "metadata": {},
   "source": [
    "### 5-Comparazione con Array\n",
    "Gli array possono essere utilizzati anche per operazioni di natura logica e non solo numerica. Per estrarre informazioni di varia natura."
   ]
  },
  {
   "cell_type": "code",
   "execution_count": 1,
   "metadata": {},
   "outputs": [
    {
     "name": "stdout",
     "output_type": "stream",
     "text": [
      "[  0  41  15   0   0   3 122  97  58  43 213  15   0   0   0   0   0   0\n",
      "   0   0   0   5   0   0   0   0   0  89 216   0  23  20   0   0   0   0\n",
      "   0   0  51   5 183 170  46  18  94 117 264 145 152  10  30  28  25  61\n",
      " 130   3   0   0   0   5 191 107 165 467  30   0 323  43 188   0   0   5\n",
      "  69  81 277   3   0   5   0   0   0   0   0  41  36   3 221 140   0   0\n",
      "   0   0  25   0  46   0   0  46   0   0   0   0   0   0   5 109 185   0\n",
      " 137   0  51 142  89 124   0  33  69   0   0   0   0   0 333 160  51   0\n",
      "   0 137  20   5   0   0   0   0   0   0   0   0   0   0   0   0  38   0\n",
      "  56   0   0   0   0   0   0   0   0   0   0   0   0   0   0   0   0   0\n",
      "  18  64   0   5  36  13   0   8   3   0   0   0   0   0   0  18  23   0\n",
      "   0   0   0   0   0   0   0   0   0   0   0   0   0   0   0   0   0   0\n",
      "   0   0   0   0   3 193   0   0   0   0   0   0   0   0   0   5   0   0\n",
      "   0   0   0   0   0   0   5 127 216   0  10   0   0   0   0   0   0   0\n",
      "   0   0   0   0   0   0   0  84  13   0  30   0   0   0   0   0   0   0\n",
      "   0   0   0   0   0   0   0   5   3   0   0   0   3 183 203  43  89   0\n",
      "   0   8   0   0   0   0   0   0   0   0   0   0   3  74   0  76  71  86\n",
      "   0  33 150   0 117  10 320  94  41  61  15   8 127   5 254 170   0  18\n",
      " 109  41  48  41   0   0  51   0   0   0   0   0   0   0   0   0   0  36\n",
      " 152   5 119  13 183   3  33 343  36   0   0   0   0   8  30  74   0  91\n",
      "  99 130  69   0   0   0   0   0  28 130  30 196   0   0 206  53   0   0\n",
      "  33  41   0   0   0]\n"
     ]
    }
   ],
   "source": [
    "import pandas as pd\n",
    "import matplotlib.pyplot as plt\n",
    "\n",
    "df = pd.read_csv('data/Seattle2014.csv')['PRCP'].values\n",
    "\n",
    "inch"
   ]
  },
  {
   "cell_type": "code",
   "execution_count": null,
   "metadata": {},
   "outputs": [],
   "source": []
  }
 ],
 "metadata": {
  "kernelspec": {
   "display_name": "Python 3",
   "language": "python",
   "name": "python3"
  },
  "language_info": {
   "codemirror_mode": {
    "name": "ipython",
    "version": 3
   },
   "file_extension": ".py",
   "mimetype": "text/x-python",
   "name": "python",
   "nbconvert_exporter": "python",
   "pygments_lexer": "ipython3",
   "version": "3.7.4"
  }
 },
 "nbformat": 4,
 "nbformat_minor": 2
}
