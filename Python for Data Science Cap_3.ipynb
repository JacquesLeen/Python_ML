{
 "cells": [
  {
   "cell_type": "markdown",
   "metadata": {},
   "source": [
    "# Data Science With Python\n",
    "\n",
    "## Cap.3 Pandas"
   ]
  },
  {
   "cell_type": "code",
   "execution_count": 2,
   "metadata": {},
   "outputs": [],
   "source": [
    "#import di quello che mi serve \n",
    "\n",
    "import numpy as np\n",
    "import matplotlib.pyplot as plt\n",
    "import pandas as pd\n",
    "import seaborn; seaborn.set()"
   ]
  },
  {
   "cell_type": "markdown",
   "metadata": {},
   "source": [
    "Pandas opera con 3 diversi tipi di oggetti:\n",
    "\n",
    "1) Le serie\n",
    "\n",
    "2) I data frame\n",
    "\n",
    "3) Gli indici\n",
    "\n",
    "Le serie sono array monodimensionali di valori indicizzati"
   ]
  },
  {
   "cell_type": "code",
   "execution_count": 5,
   "metadata": {},
   "outputs": [
    {
     "name": "stdout",
     "output_type": "stream",
     "text": [
      "0    0.25\n",
      "1    0.50\n",
      "2    0.75\n",
      "3    1.00\n",
      "4    1.25\n",
      "dtype: float64\n"
     ]
    }
   ],
   "source": [
    "serie = pd.Series([0.25, 0.5, 0.75, 1., 1.25])\n",
    "print(serie)"
   ]
  },
  {
   "cell_type": "markdown",
   "metadata": {},
   "source": [
    "La differenza grossa con gli array di numpy è che per le serie gli indici sono definiti esplicitamente"
   ]
  },
  {
   "cell_type": "code",
   "execution_count": 6,
   "metadata": {},
   "outputs": [
    {
     "name": "stdout",
     "output_type": "stream",
     "text": [
      "a    0.25\n",
      "b    0.50\n",
      "c    0.75\n",
      "d    1.00\n",
      "e    1.25\n",
      "dtype: float64\n"
     ]
    }
   ],
   "source": [
    "serie = pd.Series([0.25, 0.5, 0.75, 1, 1.25], index=['a', 'b', 'c', 'd', 'e'])\n",
    "print(serie)"
   ]
  },
  {
   "cell_type": "markdown",
   "metadata": {},
   "source": [
    "l'analogia è con i dizionari, cioè strutture che assegnano a chiave un valore preciso. Tanto analoghe le due cose che si possono costruire serie a partire dai dizionari"
   ]
  },
  {
   "cell_type": "code",
   "execution_count": 9,
   "metadata": {},
   "outputs": [
    {
     "name": "stdout",
     "output_type": "stream",
     "text": [
      "Texas       26448193\n",
      "New York    19651127\n",
      "dtype: int64\n"
     ]
    }
   ],
   "source": [
    "States ={   \n",
    "            'California': 38332521,\n",
    "            'Texas': 26448193,\n",
    "            'New York': 19651127,\n",
    "            'Florida': 19552860,\n",
    "            'Illinois': 12882135 \n",
    "        }\n",
    "\n",
    "states = pd.Series(States)\n",
    "print(states[1:3])"
   ]
  },
  {
   "cell_type": "markdown",
   "metadata": {},
   "source": [
    "I DF sono anch'essi generalizzazioni di dizionari, ma hanno più valori associati a una chiave"
   ]
  },
  {
   "cell_type": "code",
   "execution_count": 14,
   "metadata": {},
   "outputs": [
    {
     "name": "stdout",
     "output_type": "stream",
     "text": [
      "            population    area\n",
      "California    38332521  423967\n",
      "Texas         26448193  695662\n",
      "New York      19651127  141297\n",
      "Florida       19552860  170312\n",
      "Illinois      12882135  149995\n"
     ]
    }
   ],
   "source": [
    "area = pd.Series({'California': 423967, 'Texas': 695662, 'New York': 141297,\n",
    "'Florida': 170312, 'Illinois': 149995})\n",
    "\n",
    "DF = pd.DataFrame({'population': states,'area':area})\n",
    "print(DF)"
   ]
  },
  {
   "cell_type": "markdown",
   "metadata": {},
   "source": [
    "### 1- Indexing and Selection\n",
    "\n",
    "Un dataframe è analogo in molti aspetti a un array multidimensionale. In questo senso l'indexing può essere inferito proprio da questa situazione. "
   ]
  },
  {
   "cell_type": "code",
   "execution_count": 34,
   "metadata": {},
   "outputs": [
    {
     "name": "stdout",
     "output_type": "stream",
     "text": [
      "California    423967\n",
      "Texas         695662\n",
      "New York      141297\n",
      "Florida       170312\n",
      "Illinois      149995\n",
      "Name: area, dtype: int64\n",
      "===================Aggiungo Density==================\n",
      "            population    area     density\n",
      "California    38332521  423967   90.413926\n",
      "Texas         26448193  695662   38.018740\n",
      "New York      19651127  141297  139.076746\n",
      "Florida       19552860  170312  114.806121\n",
      "Illinois      12882135  149995   85.883763\n",
      "===================Stampo dati california==================\n",
      "population    3.833252e+07\n",
      "area          4.239670e+05\n",
      "density       9.041393e+01\n",
      "Name: California, dtype: float64\n",
      "===================Stampo dati california==================\n",
      "population    3.833252e+07\n",
      "area          4.239670e+05\n",
      "density       9.041393e+01\n",
      "Name: California, dtype: float64\n"
     ]
    }
   ],
   "source": [
    "print(DF.area)\n",
    "\n",
    "print('===================Aggiungo Density==================')\n",
    "#le colonne possono essere chiamate con il nome della label associata\n",
    "DF['density'] = DF.population/DF.area\n",
    "print(DF)\n",
    "\n",
    "print('===================Stampo dati california==================')\n",
    "#La riga può essere individuata dalla location loc\n",
    "print(DF.loc['California'])\n",
    "print('===================Stampo dati california==================')\n",
    "#oppure dalla trasposta\n",
    "print(DF.T['California'])"
   ]
  },
  {
   "cell_type": "code",
   "execution_count": 47,
   "metadata": {},
   "outputs": [
    {
     "name": "stdout",
     "output_type": "stream",
     "text": [
      "=========stati con densità > 100============\n",
      "          population    area     density\n",
      "New York    19651127  141297  139.076746\n",
      "Florida     19552860  170312  114.806121\n"
     ]
    }
   ],
   "source": [
    "#esempio di comparazione con pd\n",
    "\n",
    "print('=========stati con densità > 100============')\n",
    "\n",
    "print(DF[DF.density> 100])"
   ]
  },
  {
   "cell_type": "markdown",
   "metadata": {},
   "source": [
    "### 2-Operazioni con Pandas\n",
    "\n",
    "Tutte le operazioni di Numpy funzionano anche su dataframe e series di Pandas."
   ]
  },
  {
   "cell_type": "code",
   "execution_count": 56,
   "metadata": {},
   "outputs": [
    {
     "name": "stdout",
     "output_type": "stream",
     "text": [
      "=========SERIE===========\n",
      "0    6\n",
      "1    3\n",
      "2    7\n",
      "3    4\n",
      "dtype: int64\n",
      "=========DF===========\n",
      "   a  b  c  d  e\n",
      "0  6  9  2  6  7\n",
      "1  4  3  7  7  2\n",
      "2  5  4  1  7  5\n",
      "3  1  4  0  9  5\n",
      "4  8  0  9  2  6\n",
      "exp (df) \n",
      "              a            b            c            d            e\n",
      "0   403.428793  8103.083928     7.389056   403.428793  1096.633158\n",
      "1    54.598150    20.085537  1096.633158  1096.633158     7.389056\n",
      "2   148.413159    54.598150     2.718282  1096.633158   148.413159\n",
      "3     2.718282    54.598150     1.000000  8103.083928   148.413159\n",
      "4  2980.957987     1.000000  8103.083928     7.389056   403.428793\n",
      "sommo 2 alla prima riga di df\n",
      "    a   b  c  d  e\n",
      "0  8  11  4  8  9\n",
      "1  4   3  7  7  2\n",
      "2  5   4  1  7  5\n",
      "3  1   4  0  9  5\n",
      "4  8   0  9  2  6\n"
     ]
    }
   ],
   "source": [
    "rng = np.random.RandomState(42)\n",
    "serie = pd.Series(rng.randint(0,10,4))\n",
    "print('=========SERIE===========')\n",
    "print(serie)\n",
    "\n",
    "df = pd.DataFrame(rng.randint(0,10,(5,5)), columns=['a','b','c','d','e'])\n",
    "print('=========DF===========')\n",
    "print(df)\n",
    "\n",
    "#esponenzio elementi del dataframe\n",
    "print('exp (df) \\n',np.exp(df))\n",
    "\n",
    "df.iloc[0]+=2\n",
    "print('sommo 2 alla prima riga di df\\n', df )"
   ]
  },
  {
   "cell_type": "code",
   "execution_count": null,
   "metadata": {},
   "outputs": [],
   "source": []
  }
 ],
 "metadata": {
  "kernelspec": {
   "display_name": "Python 3",
   "language": "python",
   "name": "python3"
  },
  "language_info": {
   "codemirror_mode": {
    "name": "ipython",
    "version": 3
   },
   "file_extension": ".py",
   "mimetype": "text/x-python",
   "name": "python",
   "nbconvert_exporter": "python",
   "pygments_lexer": "ipython3",
   "version": "3.7.4"
  }
 },
 "nbformat": 4,
 "nbformat_minor": 2
}
